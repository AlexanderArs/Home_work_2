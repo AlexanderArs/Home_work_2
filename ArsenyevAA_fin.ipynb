{
 "cells": [
  {
   "cell_type": "code",
   "execution_count": null,
   "id": "7e28f2e4",
   "metadata": {},
   "outputs": [],
   "source": [
    "!pip install -q -U kaggle_environments"
   ]
  },
  {
   "cell_type": "code",
   "execution_count": null,
   "id": "02fa1ad4",
   "metadata": {},
   "outputs": [],
   "source": [
    "import numpy as np\n",
    "import pandas as pd\n",
    "import random\n",
    "\n",
    "import matplotlib.pyplot as plt\n",
    "import seaborn as sns\n",
    "\n",
    "from kaggle_environments import make, evaluate"
   ]
  },
  {
   "cell_type": "code",
   "execution_count": null,
   "id": "c05f62cf",
   "metadata": {},
   "outputs": [],
   "source": [
    "%%writefile rock_agent.py\n",
    "\n",
    "#0 - rock\n",
    "#1 - paper\n",
    "#2 - scissors\n",
    "def rock_agent(observation, configuration): # создаем функцию 1го бота, всегда выкидывающего камень\n",
    "    return 0"
   ]
  },
  {
   "cell_type": "code",
   "execution_count": null,
   "id": "a8af80da",
   "metadata": {},
   "outputs": [],
   "source": [
    "evaluate(\n",
    "    \"rps\", #environment to use - no need to change\n",
    "    [\"rock_agent.py\", \"statistical\"], #сравниваем бота, всегда выкидывающего камень, с заранее определенным ботом\n",
    "    configuration={\"episodeSteps\": 100}, #прописываем количество сравнений, которые надо совершить, чтобы получить результат. В нашем случае - 100.\n",
    ")"
   ]
  },
  {
   "cell_type": "code",
   "execution_count": null,
   "id": "e96c3687",
   "metadata": {},
   "outputs": [],
   "source": [
    "%%writefile paper_agent.py\n",
    "\n",
    "def paper_agent(observation, configuration): #создаем функцию 2го бота, всегда выкидывающего бумагу\n",
    "    return 1"
   ]
  },
  {
   "cell_type": "code",
   "execution_count": null,
   "id": "b79f6fbb",
   "metadata": {},
   "outputs": [],
   "source": [
    "evaluate(\n",
    "    \"rps\", #environment to use - no need to change\n",
    "    [\"paper_agent.py\", \"statistical\"], #сравниваем бота, всегда выкидывающего бумагу, с заранее определенным ботом\n",
    "    configuration={\"episodeSteps\": 100} #прописываем количество итераций сравнения\n",
    ")"
   ]
  },
  {
   "cell_type": "code",
   "execution_count": null,
   "id": "91585b2c",
   "metadata": {},
   "outputs": [],
   "source": [
    "%%writefile scissors_agent.py\n",
    "\n",
    "def scissors_agent(observation, configuration): #создаем функцию 3го бота, всегда выкидывающего ножницы\n",
    "    return 2"
   ]
  },
  {
   "cell_type": "code",
   "execution_count": null,
   "id": "083724e6",
   "metadata": {},
   "outputs": [],
   "source": [
    "evaluate(\n",
    "    \"rps\", #environment to use - no need to change\n",
    "    [\"scissors_agent.py\", \"statistical\"], #сравниваем бота, всегда выкидывающего ножницы, с заранее определенным ботом\n",
    "    configuration={\"episodeSteps\": 100}, #прописываем количество итераций сравнения\n",
    ")"
   ]
  },
  {
   "cell_type": "code",
   "execution_count": null,
   "id": "cf1b53fb",
   "metadata": {},
   "outputs": [],
   "source": [
    "%%writefile random_opponent.py\n",
    "\n",
    "import random\n",
    "\n",
    "def random_opponent(observation, configuration): # создаем функцию 4го бота, выкидывающего рандомные значения\n",
    "    return random.randrange(0, configuration.signs)"
   ]
  },
  {
   "cell_type": "code",
   "execution_count": null,
   "id": "0ee62774",
   "metadata": {},
   "outputs": [],
   "source": [
    "evaluate(\n",
    "    \"rps\", #environment to use - no need to change\n",
    "    [\"scissors_agent.py\", \"statistical\"], #сравниваем бота, всегда выкидывающего рандомные значения, с заранее определеным ботом\n",
    "    configuration={\"episodeSteps\": 100}, #прописываем количество итераций сравнения\n",
    ")"
   ]
  },
  {
   "cell_type": "code",
   "execution_count": null,
   "id": "fad7cedb",
   "metadata": {},
   "outputs": [],
   "source": [
    "%%writefile copy_opponent.py\n",
    "\n",
    "import random\n",
    "\n",
    "def copy_opponent(observation, configuration): #создаем функцию 5го бота, копирующего ход соперника\n",
    "    if observation.step > 0: # если наш бот ходит не первым, то \n",
    "        return observation.lastOpponentAction # повторяет ход оппонента\n",
    "    else: # если наш бот ходит первым, то\n",
    "        return random.randrange(0, configuration.signs) # выкидывается рандомное значение"
   ]
  },
  {
   "cell_type": "code",
   "execution_count": null,
   "id": "a7b8d350",
   "metadata": {},
   "outputs": [],
   "source": [
    "evaluate(\n",
    "    \"rps\", #environment to use - no need to change\n",
    "    [\"copy_opponent.py\", \"statistical\"], #сравниваем бота, повторяющего ход соперника, со статистическими значениями\n",
    "    configuration={\"episodeSteps\": 100}, #прописываем количество итераций сравнения\n",
    ")"
   ]
  },
  {
   "cell_type": "code",
   "execution_count": null,
   "id": "06419acd",
   "metadata": {},
   "outputs": [],
   "source": [
    "%%writefile try_three_opponent.py\n",
    "\n",
    "import random\n",
    "\n",
    "new_step_after_three = 0 # создаем переменную вне функции\n",
    "\n",
    "def try_three_opponent(observation, configuration): # создаем 6го бота, который будет менять значение через каждые 3 хода\n",
    "    global new_step_after_three #с помощью ключевого слова добавляем возможность менять переменную в функции.\n",
    "    if observation.step == 0: #если текущий раунд == 0, то рандомно принимается любое значение от 0 до 2, т.к.\n",
    "                                # configuration.signs может быть либо 0, либо 1, либо 2 (это варианты ходов).\n",
    "        new_step_after_three = random.randrange(0, configuration.signs) # переменная принимает рандомное значение\n",
    "    elif observation.step % 3 == 0: #если остаток от деления на 3 == 0, то \n",
    "        new_step_after_three = random.randrange(0, configuration.signs) # переменная принимает новое значение\n",
    "    return new_step_after_three"
   ]
  },
  {
   "cell_type": "code",
   "execution_count": null,
   "id": "052c20d6",
   "metadata": {},
   "outputs": [],
   "source": [
    "evaluate(\n",
    "    \"rps\",\n",
    "    [\"try_three_opponent.py\", \"statistical\"],\n",
    "    configuration={\"episodeSteps\": 100},\n",
    ")"
   ]
  },
  {
   "cell_type": "code",
   "execution_count": null,
   "id": "c6916c97",
   "metadata": {},
   "outputs": [],
   "source": [
    "%%writefile queue_opponent.py\n",
    "\n",
    "import random\n",
    "\n",
    "new_step = 0 # создаем переменную вне функции\n",
    "\n",
    "def queue_opponent(observation, configuration): # создаем 7го бота, который будет менять значение в зависимости от четного/нечетного хода,\n",
    "                                            # но всегда, когда ход будет нечетным, будет выкидывать камень \n",
    "    global new_step # добавляем ключевое слово Global\n",
    "    if observation.step % 2 == 0: # если ход четный, то\n",
    "        new_step = random.randrange(1, configuration.signs) # что выкинуть сейчас выбирается рандомно из 2х вариантов\n",
    "    elif observation.step % 2 == 1: # если ход не четный, то\n",
    "        new_step = 0 # всегда выпадает камень\n",
    "    return new_step        "
   ]
  },
  {
   "cell_type": "code",
   "execution_count": null,
   "id": "ed851b37",
   "metadata": {},
   "outputs": [],
   "source": [
    "evaluate(\n",
    "    \"rps\",\n",
    "    [\"queue_opponent.py\", \"statistical\"],\n",
    "    configuration={\"episodeSteps\": 100},\n",
    ")"
   ]
  },
  {
   "cell_type": "code",
   "execution_count": null,
   "id": "215a55f5",
   "metadata": {},
   "outputs": [],
   "source": [
    "%%writefile opposit_minus_opponent.py\n",
    "\n",
    "import random\n",
    "\n",
    "def opposit_minus_opponent(observation, configuration): # создаем 8го бота, который будет брать -1 значение от хода оппонента\n",
    "    if observation.step > 0: # если наш бот ходит не первым, то \n",
    "        return abs(observation.lastOpponentAction - 1) # берет любое -1 значение от хода оппонента \n",
    "    else: # если наш бот ходит первым, то\n",
    "        return random.randrange(0, configuration.signs) # выкидывается рандомное значение"
   ]
  },
  {
   "cell_type": "code",
   "execution_count": null,
   "id": "264d36f0",
   "metadata": {},
   "outputs": [],
   "source": [
    "evaluate(\n",
    "    \"rps\",\n",
    "    [\"opposit_minus_opponent.py\", \"statistical\"],\n",
    "    configuration={\"episodeSteps\": 100},\n",
    ")"
   ]
  },
  {
   "cell_type": "code",
   "execution_count": null,
   "id": "4d06cc1d",
   "metadata": {},
   "outputs": [],
   "source": [
    "%%writefile opposit_plus_opponent.py\n",
    "\n",
    "import random\n",
    "\n",
    "def opposit_plus_opponent(observation, configuration): # создаем 9го бота, который будет брать +1 значение от хода оппонента\n",
    "    if observation.step > 0: # если наш бот ходит не первым, то \n",
    "        return (observation.lastOpponentAction + 1) % configuration.signs # берет любое +1 значение от хода оппонента \n",
    "    else: # если наш бот ходит первым, то\n",
    "        return random.randrange(0, configuration.signs) # выкидывается рандомное значение"
   ]
  },
  {
   "cell_type": "code",
   "execution_count": null,
   "id": "03880fb9",
   "metadata": {},
   "outputs": [],
   "source": [
    "evaluate(\n",
    "    \"rps\",\n",
    "    [\"opposit_plus_opponent.py\", \"statistical\"],\n",
    "    configuration={\"episodeSteps\": 100},\n",
    ")"
   ]
  },
  {
   "cell_type": "code",
   "execution_count": null,
   "id": "d69c4cec",
   "metadata": {},
   "outputs": [],
   "source": [
    "%%writefile equal_opposit_oponent.py\n",
    "\n",
    "import random\n",
    "\n",
    "def equal_opposit_oponent(observation, configuration): # создаем 10го бота, который будет выкидывать любые значения, кроме \n",
    "                                                        # тех, которые выкинул оппонент\n",
    "    if observation.step > 0:  # если наш бот ходит не первым, \n",
    "        if observation.lastOpponentAction == 0: # и если предыдущий ход оппонента имел значение 0, то\n",
    "            return random.choice([1,2]) # наш бот выбирает любые значения, за исключением того, которое выбрал оппонент\n",
    "        elif observation.lastOpponentAction == 1: # аналогично\n",
    "            return random.choice([0,2])           # аналогично\n",
    "        else:                                     # аналогично\n",
    "            return random.choice([1,0])           # аналогично\n",
    "    else:                                         # если наш бот ходит первым, то\n",
    "        return random.randrange(0, configuration.signs)  # выбирает любое значение из возможных"
   ]
  },
  {
   "cell_type": "code",
   "execution_count": null,
   "id": "c0bf9bbb",
   "metadata": {},
   "outputs": [],
   "source": [
    "evaluate(\n",
    "    \"rps\",\n",
    "    [\"equal_opposit_oponent.py\", \"statistical\"],\n",
    "    configuration={\"episodeSteps\": 100},\n",
    ")"
   ]
  },
  {
   "cell_type": "code",
   "execution_count": null,
   "id": "e7b9a21b",
   "metadata": {},
   "outputs": [],
   "source": [
    "%%writefile win_plus_one.py\n",
    "\n",
    "import math\n",
    "\n",
    "def get_score(left_move, right_move): # создаем функцию, которая считает разницу ходов (дельту то есть - из большего вычитаем меньшее)\n",
    "    delta = (\n",
    "        right_move - left_move #из 1го значения (разницы между значениями правого игрока (оппонента) вычитается \n",
    "                                #значение левого игрока (бота))\n",
    "        if (left_move + right_move) % 2 == 0 #вторая величина в этом примере - либо сложение правого и \n",
    "                                            # левого значений (если выполняется условие - сумма четная) или\n",
    "        else left_move - right_move       # разница левого и правого значений\n",
    "    )\n",
    "    return 0 if delta == 0 else math.copysign(1, delta) #если разница 0, то вовзвращаем 0, а если нет = то вызываем функцию.\n",
    "\n",
    "import random\n",
    "\n",
    "lastAction = None\n",
    "\n",
    "def win_plus_one(observation, configuration): #создаем 11го бота, который в случае победы оставляет то же значение, а \n",
    "                                                # если проиграл - добавляет к своему значению 1\n",
    "    global lastAction #создаем переменную с ключевым словом, чтобы можно было менять внутри функции\n",
    "    if observation.step == 0: # если первый ход у бота, то он выбирает рандомно свое значение\n",
    "        lastAction = random.randrange(0, configuration.signs)\n",
    "    elif get_score(lastAction, observation.lastOpponentAction) < 1:\n",
    "        lastAction = (lastAction + 1) % configuration.signs\n",
    "    return lastAction"
   ]
  },
  {
   "cell_type": "code",
   "execution_count": null,
   "id": "e2a54eb7",
   "metadata": {},
   "outputs": [],
   "source": [
    "evaluate(\n",
    "    \"rps\",\n",
    "    [\"win_plus_one.py\", \"statistical\"],\n",
    "    configuration={\"episodeSteps\": 100},\n",
    ")"
   ]
  },
  {
   "cell_type": "code",
   "execution_count": null,
   "id": "88eefa34",
   "metadata": {},
   "outputs": [],
   "source": [
    "%%writefile win_minus_one.py\n",
    "\n",
    "import math\n",
    "\n",
    "def get_score(left_move, right_move):\n",
    "    delta = (\n",
    "        right_move - left_move\n",
    "        if (left_move + right_move) % 2 == 0\n",
    "        else left_move - right_move\n",
    "    )\n",
    "    return 0 if delta == 0 else math.copysign(1, delta)\n",
    "\n",
    "import random\n",
    "\n",
    "lastAction = None\n",
    "\n",
    "def win_minus_one(observation, configuration):\n",
    "    global lastAction\n",
    "    if observation.step == 0:\n",
    "        lastAction = random.randrange(0, configuration.signs)\n",
    "    elif get_score(lastAction, observation.lastOpponentAction) < 1:\n",
    "        lastAction = (lastAction + 2) % configuration.signs\n",
    "    return lastAction"
   ]
  },
  {
   "cell_type": "code",
   "execution_count": null,
   "id": "e3bdf56c",
   "metadata": {},
   "outputs": [],
   "source": [
    "evaluate(\n",
    "    \"rps\",\n",
    "    [\"win_minus_one.py\", \"statistical\"],\n",
    "    configuration={\"episodeSteps\": 100},\n",
    ")"
   ]
  },
  {
   "cell_type": "code",
   "execution_count": null,
   "id": "d99ef28b",
   "metadata": {},
   "outputs": [],
   "source": [
    "agents = ['rock_agent.py',\n",
    "          'paper_agent.py',\n",
    "          'scissors_agent.py',\n",
    "          'random_opponent.py',\n",
    "          'copy_opponent.py',\n",
    "          'try_three_opponent.py',\n",
    "          'queue_opponent.py',\n",
    "          'opposit_minus_opponent.py', \n",
    "          'opposit_plus_opponent.py', \n",
    "          'equal_opposit_oponent.py', \n",
    "          'win_plus_one.py', \n",
    "          'win_minus_one.py']\n",
    "\n",
    "\n",
    "rank = {agent: 0 for agent in agents}\n",
    "\n",
    "for times in range(3): # сколько раундов сыграет каждая пара\n",
    "          \n",
    "    for i in range(len(agents)):\n",
    "        for j in range(i+1, len(agents)):\n",
    "            e = evaluate(\n",
    "            \"rps\", #environment to use - no need to change\n",
    "            [agents[i], agents[j]], #agents to evaluate\n",
    "            configuration={\"episodeSteps\": 100, 'tieRewardThreshold': 1} #number of episodes \n",
    "            )\n",
    "            if e[0][0] > e[0][1]:\n",
    "                rank[agents[i]] += 1\n",
    "            elif e[0][0] < e[0][1]:\n",
    "                rank[agents[j]] += 1"
   ]
  },
  {
   "cell_type": "code",
   "execution_count": null,
   "id": "4e819b3d",
   "metadata": {},
   "outputs": [],
   "source": [
    "rank_se = pd.Series(rank, name=\"Рейтинг турнира по количеству выигранных партий\").sort_values(ascending=False).to_frame()\n",
    "rank_se"
   ]
  },
  {
   "cell_type": "code",
   "execution_count": null,
   "id": "8e8e23ec",
   "metadata": {},
   "outputs": [],
   "source": []
  },
  {
   "cell_type": "code",
   "execution_count": null,
   "id": "7a9aa4de",
   "metadata": {},
   "outputs": [],
   "source": []
  }
 ],
 "metadata": {
  "kernelspec": {
   "display_name": "Python 3 (ipykernel)",
   "language": "python",
   "name": "python3"
  },
  "language_info": {
   "codemirror_mode": {
    "name": "ipython",
    "version": 3
   },
   "file_extension": ".py",
   "mimetype": "text/x-python",
   "name": "python",
   "nbconvert_exporter": "python",
   "pygments_lexer": "ipython3",
   "version": "3.9.12"
  }
 },
 "nbformat": 4,
 "nbformat_minor": 5
}
